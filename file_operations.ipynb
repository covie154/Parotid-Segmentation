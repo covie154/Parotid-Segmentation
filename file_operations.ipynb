{
 "cells": [
  {
   "cell_type": "markdown",
   "metadata": {},
   "source": [
    "Create unaligned .nii files from the raw sequences"
   ]
  },
  {
   "cell_type": "code",
   "execution_count": 1,
   "metadata": {},
   "outputs": [],
   "source": [
    "from dcm_definitions import create_nii\n",
    "import os\n",
    "import tqdm\n",
    "\n",
    "in_dir = 'E:\\\\Parotid\\\\data_anon'\n",
    "out_dir = 'E:\\\\Parotid\\\\nii_anon'"
   ]
  },
  {
   "cell_type": "code",
   "execution_count": 4,
   "metadata": {},
   "outputs": [
    {
     "name": "stderr",
     "output_type": "stream",
     "text": [
      " 32%|███▏      | 20/63 [01:10<02:31,  3.52s/it]\n"
     ]
    },
    {
     "name": "stdout",
     "output_type": "stream",
     "text": [
      "Output dir does not exist. Creating E:\\Parotid\\nii_anon\\MR_021_anon...\n",
      "Found the following sequences: T1c_ax, T1_ax, T2_ax\n",
      "Creating output for Seq 5 Ser 7 (T1c_ax)...  Done!\n",
      "Creating output for Seq 2 Ser 3 (T1_ax)...  Done!\n",
      "Creating output for Seq 6 Ser 8 (T2_ax)...  "
     ]
    },
    {
     "name": "stderr",
     "output_type": "stream",
     "text": [
      "  2%|▏         | 1/63 [00:02<02:09,  2.09s/it]"
     ]
    },
    {
     "name": "stdout",
     "output_type": "stream",
     "text": [
      "Done!\n",
      "Output dir does not exist. Creating E:\\Parotid\\nii_anon\\MR_022_anon...\n",
      "Found the following sequences: T1c_ax, T1_ax, T2_ax, AX T1\n",
      "Creating output for Seq 10 Ser 13 (T1c_ax)...  Done!\n",
      "Creating output for Seq 2 Ser 5 (T1_ax)...  Done!\n",
      "Creating output for Seq 7 Ser 10 (T2_ax)...  Done!\n",
      "Creating output for Seq 8 Ser 11 (AX T1)...  "
     ]
    },
    {
     "name": "stderr",
     "output_type": "stream",
     "text": [
      "  3%|▎         | 2/63 [00:03<01:39,  1.63s/it]"
     ]
    },
    {
     "name": "stdout",
     "output_type": "stream",
     "text": [
      "Done!\n",
      "Output dir does not exist. Creating E:\\Parotid\\nii_anon\\MR_027_anon...\n",
      "Found the following sequences: T1c_ax, T1_ax\n",
      "Creating output for Seq 6 Ser 8 (T1c_ax)...  Done!\n",
      "Creating output for Seq 2 Ser 4 (T1_ax)...  "
     ]
    },
    {
     "name": "stderr",
     "output_type": "stream",
     "text": [
      "  5%|▍         | 3/63 [00:04<01:19,  1.32s/it]"
     ]
    },
    {
     "name": "stdout",
     "output_type": "stream",
     "text": [
      "Done!\n",
      "Output dir does not exist. Creating E:\\Parotid\\nii_anon\\MR_096_anon...\n",
      "Found the following sequences: T1c_ax, T1_ax, T2_ax\n",
      "Creating output for Seq 7 Ser 9 (T1c_ax)...  Done!\n",
      "Creating output for Seq 2 Ser 4 (T1_ax)...  Done!\n",
      "Creating output for Seq 3 Ser 5 (T2_ax)...  "
     ]
    },
    {
     "name": "stderr",
     "output_type": "stream",
     "text": [
      "  6%|▋         | 4/63 [00:06<01:35,  1.61s/it]"
     ]
    },
    {
     "name": "stdout",
     "output_type": "stream",
     "text": [
      "Done!\n",
      "Output dir does not exist. Creating E:\\Parotid\\nii_anon\\MR_098_anon...\n",
      "Found the following sequences: T1c_ax, T2_ax, T1_ax\n",
      "Creating output for Seq 6 Ser 12 (T1c_ax)...  Done!\n",
      "Creating output for Seq 2 Ser 4 (T2_ax)...  Done!\n",
      "Creating output for Seq 4 Ser 6 (T1_ax)...  "
     ]
    },
    {
     "name": "stderr",
     "output_type": "stream",
     "text": [
      "  8%|▊         | 5/63 [00:08<01:45,  1.81s/it]"
     ]
    },
    {
     "name": "stdout",
     "output_type": "stream",
     "text": [
      "Done!\n",
      "Output dir does not exist. Creating E:\\Parotid\\nii_anon\\MR_102_anon...\n",
      "Found the following sequences: T1c_ax, AX T1+C FS, T1_ax, T2_ax\n",
      "Creating output for Seq 6 Ser 8 (T1c_ax)...  Done!\n",
      "Creating output for Seq 8 Ser 10 (AX T1+C FS)...  Done!\n",
      "Creating output for Seq 2 Ser 4 (T1_ax)...  Done!\n",
      "Creating output for Seq 3 Ser 5 (T2_ax)...  "
     ]
    },
    {
     "name": "stderr",
     "output_type": "stream",
     "text": [
      " 10%|▉         | 6/63 [00:11<01:59,  2.09s/it]"
     ]
    },
    {
     "name": "stdout",
     "output_type": "stream",
     "text": [
      "Done!\n",
      "Output dir does not exist. Creating E:\\Parotid\\nii_anon\\MR_106_anon...\n",
      "Found the following sequences: T1c_ax, T1_ax\n",
      "Creating output for Seq 6 Ser 7 (T1c_ax)...  Done!\n",
      "Creating output for Seq 1 Ser 2 (T1_ax)...  "
     ]
    },
    {
     "name": "stderr",
     "output_type": "stream",
     "text": [
      " 11%|█         | 7/63 [00:11<01:32,  1.64s/it]"
     ]
    },
    {
     "name": "stdout",
     "output_type": "stream",
     "text": [
      "Done!\n",
      "Output dir does not exist. Creating E:\\Parotid\\nii_anon\\MR_107_anon...\n",
      "Found the following sequences: T1c_ax, T1_ax\n",
      "Creating output for Seq 8 Ser 10 (T1c_ax)...  Done!\n",
      "Creating output for Seq 4 Ser 6 (T1_ax)...  "
     ]
    },
    {
     "name": "stderr",
     "output_type": "stream",
     "text": [
      " 13%|█▎        | 8/63 [00:12<01:14,  1.36s/it]"
     ]
    },
    {
     "name": "stdout",
     "output_type": "stream",
     "text": [
      "Done!\n",
      "Output dir does not exist. Creating E:\\Parotid\\nii_anon\\MR_108_anon...\n",
      "Found the following sequences: T1c_ax, T1_ax\n",
      "Creating output for Seq 5 Ser 6 (T1c_ax)...  Done!\n",
      "Creating output for Seq 1 Ser 2 (T1_ax)...  "
     ]
    },
    {
     "name": "stderr",
     "output_type": "stream",
     "text": [
      " 14%|█▍        | 9/63 [00:13<01:04,  1.19s/it]"
     ]
    },
    {
     "name": "stdout",
     "output_type": "stream",
     "text": [
      "Done!\n",
      "Output dir does not exist. Creating E:\\Parotid\\nii_anon\\MR_109_anon...\n",
      "Found the following sequences: T1c_ax, T1_ax\n",
      "Creating output for Seq 5 Ser 7 (T1c_ax)...  Done!\n",
      "Creating output for Seq 1 Ser 3 (T1_ax)...  "
     ]
    },
    {
     "name": "stderr",
     "output_type": "stream",
     "text": [
      " 16%|█▌        | 10/63 [00:14<01:01,  1.17s/it]"
     ]
    },
    {
     "name": "stdout",
     "output_type": "stream",
     "text": [
      "Done!\n",
      "Output dir does not exist. Creating E:\\Parotid\\nii_anon\\MR_110_anon...\n",
      "Found the following sequences: T1c_ax, T1_ax, T2_ax\n",
      "Creating output for Seq 6 Ser 8 (T1c_ax)...  Done!\n",
      "Creating output for Seq 3 Ser 4 (T1_ax)...  Done!\n",
      "Creating output for Seq 4 Ser 5 (T2_ax)...  "
     ]
    },
    {
     "name": "stderr",
     "output_type": "stream",
     "text": [
      " 17%|█▋        | 11/63 [00:17<01:33,  1.80s/it]"
     ]
    },
    {
     "name": "stdout",
     "output_type": "stream",
     "text": [
      "Done!\n",
      "Output dir does not exist. Creating E:\\Parotid\\nii_anon\\MR_112_anon...\n",
      "Found the following sequences: T1c_ax, T1_ax\n",
      "Creating output for Seq 6 Ser 7 (T1c_ax)...  Done!\n",
      "Creating output for Seq 1 Ser 2 (T1_ax)...  "
     ]
    },
    {
     "name": "stderr",
     "output_type": "stream",
     "text": [
      " 19%|█▉        | 12/63 [00:18<01:15,  1.48s/it]"
     ]
    },
    {
     "name": "stdout",
     "output_type": "stream",
     "text": [
      "Done!\n",
      "Output dir does not exist. Creating E:\\Parotid\\nii_anon\\MR_113_anon...\n",
      "Found the following sequences: T1c_ax, T1_ax\n",
      "Creating output for Seq 6 Ser 7 (T1c_ax)...  Done!\n",
      "Creating output for Seq 1 Ser 2 (T1_ax)...  "
     ]
    },
    {
     "name": "stderr",
     "output_type": "stream",
     "text": [
      " 21%|██        | 13/63 [00:19<01:04,  1.28s/it]"
     ]
    },
    {
     "name": "stdout",
     "output_type": "stream",
     "text": [
      "Done!\n",
      "Output dir does not exist. Creating E:\\Parotid\\nii_anon\\MR_114_anon...\n",
      "Found the following sequences: T1c_ax, T1_ax\n",
      "Creating output for Seq 5 Ser 7 (T1c_ax)...  Done!\n",
      "Creating output for Seq 4 Ser 6 (T1_ax)...  "
     ]
    },
    {
     "name": "stderr",
     "output_type": "stream",
     "text": [
      " 22%|██▏       | 14/63 [00:20<00:52,  1.08s/it]"
     ]
    },
    {
     "name": "stdout",
     "output_type": "stream",
     "text": [
      "Done!\n",
      "Output dir does not exist. Creating E:\\Parotid\\nii_anon\\MR_115_anon...\n",
      "Found the following sequences: T1c_ax, T1_ax, T1 Ax BRACHIAL\n",
      "Creating output for Seq 7 Ser 8 (T1c_ax)...  Done!\n",
      "Creating output for Seq 4 Ser 5 (T1_ax)...  Done!\n",
      "Creating output for Seq 6 Ser 7 (T1 Ax BRACHIAL)...  "
     ]
    },
    {
     "name": "stderr",
     "output_type": "stream",
     "text": [
      " 24%|██▍       | 15/63 [00:21<00:50,  1.05s/it]"
     ]
    },
    {
     "name": "stdout",
     "output_type": "stream",
     "text": [
      "Done!\n",
      "Output dir does not exist. Creating E:\\Parotid\\nii_anon\\MR_116_anon...\n",
      "Found the following sequences: T1c_ax, T1_ax\n",
      "Creating output for Seq 11 Ser 13 (T1c_ax)...  Done!\n",
      "Creating output for Seq 2 Ser 4 (T1_ax)...  "
     ]
    },
    {
     "name": "stderr",
     "output_type": "stream",
     "text": [
      " 25%|██▌       | 16/63 [00:21<00:47,  1.02s/it]"
     ]
    },
    {
     "name": "stdout",
     "output_type": "stream",
     "text": [
      "Done!\n",
      "Output dir does not exist. Creating E:\\Parotid\\nii_anon\\MR_117_anon...\n",
      "Found the following sequences: T1c_ax, T1_ax\n",
      "Creating output for Seq 10 Ser 10 (T1c_ax)...  Done!\n",
      "Creating output for Seq 3 Ser 3 (T1_ax)...  "
     ]
    },
    {
     "name": "stderr",
     "output_type": "stream",
     "text": [
      " 27%|██▋       | 17/63 [00:23<00:52,  1.14s/it]"
     ]
    },
    {
     "name": "stdout",
     "output_type": "stream",
     "text": [
      "Done!\n",
      "Output dir does not exist. Creating E:\\Parotid\\nii_anon\\MR_118_anon...\n",
      "Found the following sequences: T1c_ax, T1_ax\n",
      "Creating output for Seq 7 Ser 7 (T1c_ax)...  Done!\n",
      "Creating output for Seq 3 Ser 3 (T1_ax)...  "
     ]
    },
    {
     "name": "stderr",
     "output_type": "stream",
     "text": [
      " 29%|██▊       | 18/63 [00:24<00:51,  1.15s/it]"
     ]
    },
    {
     "name": "stdout",
     "output_type": "stream",
     "text": [
      "Done!\n",
      "Output dir does not exist. Creating E:\\Parotid\\nii_anon\\MR_122_anon...\n",
      "Found the following sequences: T1c_ax, AX T1+C FS DELAYED, T2_ax, T1_ax\n",
      "Creating output for Seq 11 Ser 13 (T1c_ax)...  Done!\n",
      "Creating output for Seq 2 Ser 5 (AX T1+C FS DELAYED)...  Done!\n",
      "Creating output for Seq 3 Ser 5 (T2_ax)...  Done!\n",
      "Creating output for Seq 4 Ser 6 (T1_ax)...  "
     ]
    },
    {
     "name": "stderr",
     "output_type": "stream",
     "text": [
      " 30%|███       | 19/63 [00:26<00:56,  1.27s/it]"
     ]
    },
    {
     "name": "stdout",
     "output_type": "stream",
     "text": [
      "Done!\n",
      "Output dir does not exist. Creating E:\\Parotid\\nii_anon\\MR_123_anon...\n",
      "Found the following sequences: T1c_ax, T1_ax, T2_ax\n",
      "Creating output for Seq 7 Ser 10 (T1c_ax)...  Done!\n",
      "Creating output for Seq 2 Ser 4 (T1_ax)...  Done!\n",
      "Creating output for Seq 3 Ser 6 (T2_ax)...  "
     ]
    },
    {
     "name": "stderr",
     "output_type": "stream",
     "text": [
      " 32%|███▏      | 20/63 [00:28<01:07,  1.57s/it]"
     ]
    },
    {
     "name": "stdout",
     "output_type": "stream",
     "text": [
      "Done!\n",
      "Output dir does not exist. Creating E:\\Parotid\\nii_anon\\MR_124_anon...\n",
      "Found the following sequences: T1c_ax, t1_vibe tra +c fs (high res rapid), T2_ax, t2_space_0.5_iso, T1_ax, t1_tse_tra parotid, t1_tse_tra_4mm\n",
      "Creating output for Seq 11 Ser 14 (T1c_ax)...  Done!\n",
      "Creating output for Seq 9 Ser 12 (t1_vibe tra +c fs (high res rapid))...  Done!\n",
      "Creating output for Seq 1 Ser 2 (T2_ax)...  Done!\n",
      "Creating output for Seq 2 Ser 3 (t2_space_0.5_iso)...  Done!\n",
      "Creating output for Seq 4 Ser 5 (T1_ax)...  Done!\n",
      "Creating output for Seq 6 Ser 7 (t1_tse_tra parotid)...  Done!\n",
      "Creating output for Seq 8 Ser 11 (t1_tse_tra_4mm)...  "
     ]
    },
    {
     "name": "stderr",
     "output_type": "stream",
     "text": [
      " 33%|███▎      | 21/63 [00:32<01:39,  2.37s/it]"
     ]
    },
    {
     "name": "stdout",
     "output_type": "stream",
     "text": [
      "Done!\n",
      "Output dir does not exist. Creating E:\\Parotid\\nii_anon\\MR_125_anon...\n",
      "Found the following sequences: T1c_ax, T1_ax, T2_ax\n",
      "Creating output for Seq 6 Ser 8 (T1c_ax)...  Done!\n",
      "Creating output for Seq 2 Ser 4 (T1_ax)...  Done!\n",
      "Creating output for Seq 3 Ser 5 (T2_ax)...  "
     ]
    },
    {
     "name": "stderr",
     "output_type": "stream",
     "text": [
      " 35%|███▍      | 22/63 [00:36<01:56,  2.83s/it]"
     ]
    },
    {
     "name": "stdout",
     "output_type": "stream",
     "text": [
      "Done!\n",
      "Output dir does not exist. Creating E:\\Parotid\\nii_anon\\MR_126_anon...\n",
      "Found the following sequences: T1c_ax, T1_ax, T2_ax\n",
      "Creating output for Seq 6 Ser 10 (T1c_ax)...  Done!\n",
      "Creating output for Seq 2 Ser 4 (T1_ax)...  Done!\n",
      "Creating output for Seq 3 Ser 5 (T2_ax)...  "
     ]
    },
    {
     "name": "stderr",
     "output_type": "stream",
     "text": [
      " 37%|███▋      | 23/63 [00:39<01:56,  2.90s/it]"
     ]
    },
    {
     "name": "stdout",
     "output_type": "stream",
     "text": [
      "Done!\n",
      "Output dir does not exist. Creating E:\\Parotid\\nii_anon\\MR_128_anon...\n",
      "Found the following sequences: T1c_ax, T1_ax, T2_ax\n",
      "Creating output for Seq 5 Ser 7 (T1c_ax)...  Done!\n",
      "Creating output for Seq 2 Ser 4 (T1_ax)...  Done!\n",
      "Creating output for Seq 3 Ser 5 (T2_ax)...  "
     ]
    },
    {
     "name": "stderr",
     "output_type": "stream",
     "text": [
      " 38%|███▊      | 24/63 [00:43<02:02,  3.15s/it]"
     ]
    },
    {
     "name": "stdout",
     "output_type": "stream",
     "text": [
      "Done!\n",
      "Output dir does not exist. Creating E:\\Parotid\\nii_anon\\MR_129_anon...\n",
      "Found the following sequences: T1c_ax, T1_ax, T2_ax\n",
      "Creating output for Seq 6 Ser 8 (T1c_ax)...  Done!\n",
      "Creating output for Seq 2 Ser 4 (T1_ax)...  Done!\n",
      "Creating output for Seq 3 Ser 5 (T2_ax)...  "
     ]
    },
    {
     "name": "stderr",
     "output_type": "stream",
     "text": [
      " 40%|███▉      | 25/63 [00:47<02:10,  3.43s/it]"
     ]
    },
    {
     "name": "stdout",
     "output_type": "stream",
     "text": [
      "Done!\n",
      "Output dir does not exist. Creating E:\\Parotid\\nii_anon\\MR_130_anon...\n",
      "Found the following sequences: T1_ax, T2_ax, T1W_TRA mDIXON 2D PAROTIDS, T1W_TRA mDIXON 2D+DOTAREM, T1W_TRA mDIXON 2D PAROTIDS+DOTAREM\n",
      "Creating output for Seq 4 Ser 401 (T1_ax)...  Done!\n",
      "Creating output for Seq 5 Ser 501 (T2_ax)...  Done!\n",
      "Creating output for Seq 6 Ser 601 (T1W_TRA mDIXON 2D PAROTIDS)...  Done!\n",
      "Creating output for Seq 8 Ser 801 (T1W_TRA mDIXON 2D+DOTAREM)...  Done!\n",
      "Creating output for Seq 9 Ser 901 (T1W_TRA mDIXON 2D PAROTIDS+DOTAREM)...  "
     ]
    },
    {
     "name": "stderr",
     "output_type": "stream",
     "text": [
      " 41%|████▏     | 26/63 [00:54<02:48,  4.54s/it]"
     ]
    },
    {
     "name": "stdout",
     "output_type": "stream",
     "text": [
      "Done!\n",
      "Output dir does not exist. Creating E:\\Parotid\\nii_anon\\MR_131_anon...\n",
      "Found the following sequences: T1_ax, T1W_TRA MVXD, T2_ax\n",
      "Creating output for Seq 12 Ser 1101 (T1_ax)...  Done!\n",
      "Creating output for Seq 4 Ser 501 (T1W_TRA MVXD)...  Done!\n",
      "Creating output for Seq 5 Ser 601 (T2_ax)...  "
     ]
    },
    {
     "name": "stderr",
     "output_type": "stream",
     "text": [
      " 43%|████▎     | 27/63 [01:02<03:20,  5.56s/it]"
     ]
    },
    {
     "name": "stdout",
     "output_type": "stream",
     "text": [
      "Done!\n",
      "Output dir does not exist. Creating E:\\Parotid\\nii_anon\\MR_132_anon...\n",
      "Found the following sequences: T1c_ax, T1_ax, T2_ax\n",
      "Creating output for Seq 6 Ser 8 (T1c_ax)...  Done!\n",
      "Creating output for Seq 3 Ser 5 (T1_ax)...  Done!\n",
      "Creating output for Seq 4 Ser 6 (T2_ax)...  "
     ]
    },
    {
     "name": "stderr",
     "output_type": "stream",
     "text": [
      " 44%|████▍     | 28/63 [01:06<03:01,  5.18s/it]"
     ]
    },
    {
     "name": "stdout",
     "output_type": "stream",
     "text": [
      "Done!\n",
      "Output dir does not exist. Creating E:\\Parotid\\nii_anon\\MR_133_anon...\n",
      "Found the following sequences: T1_ax, T1W_TRA MVXD, T2_ax\n",
      "Creating output for Seq 10 Ser 1701 (T1_ax)...  Done!\n",
      "Creating output for Seq 4 Ser 401 (T1W_TRA MVXD)...  Done!\n",
      "Creating output for Seq 5 Ser 501 (T2_ax)...  "
     ]
    },
    {
     "name": "stderr",
     "output_type": "stream",
     "text": [
      " 46%|████▌     | 29/63 [01:11<02:56,  5.18s/it]"
     ]
    },
    {
     "name": "stdout",
     "output_type": "stream",
     "text": [
      "Done!\n",
      "Output dir does not exist. Creating E:\\Parotid\\nii_anon\\MR_134_anon...\n",
      "Found the following sequences: T1c_ax, AX T1+C FS DELAYED, T1_ax, T2_ax\n",
      "Creating output for Seq 8 Ser 10 (T1c_ax)...  Done!\n",
      "Creating output for Seq 9 Ser 11 (AX T1+C FS DELAYED)...  Done!\n",
      "Creating output for Seq 2 Ser 4 (T1_ax)...  Done!\n",
      "Creating output for Seq 3 Ser 5 (T2_ax)...  "
     ]
    },
    {
     "name": "stderr",
     "output_type": "stream",
     "text": [
      " 48%|████▊     | 30/63 [01:15<02:38,  4.81s/it]"
     ]
    },
    {
     "name": "stdout",
     "output_type": "stream",
     "text": [
      "Done!\n",
      "Output dir does not exist. Creating E:\\Parotid\\nii_anon\\MR_135_anon...\n",
      "Found the following sequences: T1c_ax, t1_tse_tra_4mm+c fs, T1_ax, T2_ax\n",
      "Creating output for Seq 7 Ser 8 (T1c_ax)...  Done!\n",
      "Creating output for Seq 8 Ser 9 (t1_tse_tra_4mm+c fs)...  Done!\n",
      "Creating output for Seq 2 Ser 3 (T1_ax)...  Done!\n",
      "Creating output for Seq 3 Ser 4 (T2_ax)...  "
     ]
    },
    {
     "name": "stderr",
     "output_type": "stream",
     "text": [
      " 49%|████▉     | 31/63 [01:20<02:32,  4.76s/it]"
     ]
    },
    {
     "name": "stdout",
     "output_type": "stream",
     "text": [
      "Done!\n",
      "Output dir does not exist. Creating E:\\Parotid\\nii_anon\\MR_136_anon...\n",
      "Found the following sequences: T1_ax, T2_ax, T1W_TRA mDIXON 2D+C Dotarem\n",
      "Creating output for Seq 4 Ser 401 (T1_ax)...  Done!\n",
      "Creating output for Seq 5 Ser 501 (T2_ax)...  Done!\n",
      "Creating output for Seq 8 Ser 801 (T1W_TRA mDIXON 2D+C Dotarem)...  "
     ]
    },
    {
     "name": "stderr",
     "output_type": "stream",
     "text": [
      " 51%|█████     | 32/63 [01:23<02:13,  4.29s/it]"
     ]
    },
    {
     "name": "stdout",
     "output_type": "stream",
     "text": [
      "Done!\n",
      "Output dir does not exist. Creating E:\\Parotid\\nii_anon\\MR_137_anon...\n",
      "Found the following sequences: T1c_ax, T2_ax, T1_ax\n",
      "Creating output for Seq 7 Ser 9 (T1c_ax)...  Done!\n",
      "Creating output for Seq 1 Ser 3 (T2_ax)...  Done!\n",
      "Creating output for Seq 4 Ser 6 (T1_ax)...  "
     ]
    },
    {
     "name": "stderr",
     "output_type": "stream",
     "text": [
      " 52%|█████▏    | 33/63 [01:25<01:44,  3.48s/it]"
     ]
    },
    {
     "name": "stdout",
     "output_type": "stream",
     "text": [
      "Done!\n",
      "Output dir does not exist. Creating E:\\Parotid\\nii_anon\\MR_138_anon...\n",
      "Found the following sequences: T1c_ax, T1_ax, T2_ax, t2_blade_tra_p2 bot\n",
      "Creating output for Seq 6 Ser 7 (T1c_ax)...  Done!\n",
      "Creating output for Seq 2 Ser 3 (T1_ax)...  Done!\n",
      "Creating output for Seq 3 Ser 4 (T2_ax)...  Done!\n",
      "Creating output for Seq 8 Ser 9 (t2_blade_tra_p2 bot)...  "
     ]
    },
    {
     "name": "stderr",
     "output_type": "stream",
     "text": [
      " 54%|█████▍    | 34/63 [01:28<01:40,  3.47s/it]"
     ]
    },
    {
     "name": "stdout",
     "output_type": "stream",
     "text": [
      "Done!\n",
      "Output dir does not exist. Creating E:\\Parotid\\nii_anon\\MR_139_anon...\n",
      "Found the following sequences: T1c_ax, t1_tse_rs_tra_+C FS thin cuts, T2_ax, T1_ax, t2_tse_tra thin cuts\n",
      "Creating output for Seq 8 Ser 9 (T1c_ax)...  Done!\n",
      "Creating output for Seq 9 Ser 10 (t1_tse_rs_tra_+C FS thin cuts)...  Done!\n",
      "Creating output for Seq 2 Ser 3 (T2_ax)...  Done!\n",
      "Creating output for Seq 3 Ser 4 (T1_ax)...  Done!\n",
      "Creating output for Seq 6 Ser 7 (t2_tse_tra thin cuts)...  "
     ]
    },
    {
     "name": "stderr",
     "output_type": "stream",
     "text": [
      " 56%|█████▌    | 35/63 [01:32<01:37,  3.49s/it]"
     ]
    },
    {
     "name": "stdout",
     "output_type": "stream",
     "text": [
      "Done!\n",
      "Output dir does not exist. Creating E:\\Parotid\\nii_anon\\MR_140_anon...\n",
      "Found the following sequences: T1c_ax, t1_tse_tra_4mm+c fs top, t1_tse_tra_4mm+c fs bot, T2_ax, t2_tse_tra_4mm bot, T1_ax, t1_tse_tra_4mm bot\n",
      "Creating output for Seq 10 Ser 12 (T1c_ax)...  Done!\n",
      "Creating output for Seq 12 Ser 14 (t1_tse_tra_4mm+c fs top)...  Done!\n",
      "Creating output for Seq 13 Ser 16 (t1_tse_tra_4mm+c fs bot)...  Done!\n",
      "Creating output for Seq 2 Ser 3 (T2_ax)...  Done!\n",
      "Creating output for Seq 3 Ser 4 (t2_tse_tra_4mm bot)...  Done!\n",
      "Creating output for Seq 4 Ser 5 (T1_ax)...  Done!\n",
      "Creating output for Seq 8 Ser 10 (t1_tse_tra_4mm bot)...  "
     ]
    },
    {
     "name": "stderr",
     "output_type": "stream",
     "text": [
      " 57%|█████▋    | 36/63 [01:36<01:43,  3.83s/it]"
     ]
    },
    {
     "name": "stdout",
     "output_type": "stream",
     "text": [
      "Done!\n",
      "Output dir does not exist. Creating E:\\Parotid\\nii_anon\\MR_141_anon...\n",
      "Found the following sequences: T1c_ax, t1_tse_tra_4mm+c fs, T1_ax, T2_ax\n",
      "Creating output for Seq 7 Ser 10 (T1c_ax)...  Done!\n",
      "Creating output for Seq 8 Ser 11 (t1_tse_tra_4mm+c fs)...  Done!\n",
      "Creating output for Seq 1 Ser 2 (T1_ax)...  Done!\n",
      "Creating output for Seq 2 Ser 3 (T2_ax)...  "
     ]
    },
    {
     "name": "stderr",
     "output_type": "stream",
     "text": [
      " 59%|█████▊    | 37/63 [01:39<01:31,  3.51s/it]"
     ]
    },
    {
     "name": "stdout",
     "output_type": "stream",
     "text": [
      "Done!\n",
      "Output dir does not exist. Creating E:\\Parotid\\nii_anon\\MR_145_anon...\n",
      "Found the following sequences: T1c_ax, T1_ax\n",
      "Creating output for Seq 10 Ser 12 (T1c_ax)...  Done!\n",
      "Creating output for Seq 2 Ser 4 (T1_ax)...  "
     ]
    },
    {
     "name": "stderr",
     "output_type": "stream",
     "text": [
      " 60%|██████    | 38/63 [01:40<01:11,  2.84s/it]"
     ]
    },
    {
     "name": "stdout",
     "output_type": "stream",
     "text": [
      "Done!\n",
      "Output dir does not exist. Creating E:\\Parotid\\nii_anon\\MR_231_anon...\n",
      "Found the following sequences: T1_ax, T2_ax, T1W_TRA MVXD, T1W_TRA. mDIXON 2D, T1W_TRA. mDIXON 2D+c dotarem\n",
      "Creating output for Seq 10 Ser 901 (T1_ax)...  Done!\n",
      "Creating output for Seq 4 Ser 401 (T2_ax)...  Done!\n",
      "Creating output for Seq 5 Ser 501 (T1W_TRA MVXD)...  Done!\n",
      "Creating output for Seq 6 Ser 601 (T1W_TRA. mDIXON 2D)...  Done!\n",
      "Creating output for Seq 8 Ser 801 (T1W_TRA. mDIXON 2D+c dotarem)...  "
     ]
    },
    {
     "name": "stderr",
     "output_type": "stream",
     "text": [
      " 62%|██████▏   | 39/63 [01:46<01:25,  3.57s/it]"
     ]
    },
    {
     "name": "stdout",
     "output_type": "stream",
     "text": [
      "Done!\n",
      "Output dir does not exist. Creating E:\\Parotid\\nii_anon\\MR_238_anon...\n",
      "Found the following sequences: T1c_ax, T1_ax\n",
      "Creating output for Seq 9 Ser 12 (T1c_ax)...  Done!\n",
      "Creating output for Seq 1 Ser 3 (T1_ax)...  "
     ]
    },
    {
     "name": "stderr",
     "output_type": "stream",
     "text": [
      " 63%|██████▎   | 40/63 [01:48<01:10,  3.05s/it]"
     ]
    },
    {
     "name": "stdout",
     "output_type": "stream",
     "text": [
      "Done!\n",
      "Output dir does not exist. Creating E:\\Parotid\\nii_anon\\MR_239_anon...\n",
      "Found the following sequences: T1c_ax, T1_ax\n",
      "Creating output for Seq 8 Ser 10 (T1c_ax)...  Done!\n",
      "Creating output for Seq 2 Ser 4 (T1_ax)...  "
     ]
    },
    {
     "name": "stderr",
     "output_type": "stream",
     "text": [
      " 65%|██████▌   | 41/63 [01:49<00:53,  2.45s/it]"
     ]
    },
    {
     "name": "stdout",
     "output_type": "stream",
     "text": [
      "Done!\n",
      "Output dir does not exist. Creating E:\\Parotid\\nii_anon\\MR_240_anon...\n",
      "Found the following sequences: T1c_ax, T1_ax\n",
      "Creating output for Seq 9 Ser 12 (T1c_ax)...  Done!\n",
      "Creating output for Seq 3 Ser 5 (T1_ax)...  "
     ]
    },
    {
     "name": "stderr",
     "output_type": "stream",
     "text": [
      " 67%|██████▋   | 42/63 [01:52<00:59,  2.83s/it]"
     ]
    },
    {
     "name": "stdout",
     "output_type": "stream",
     "text": [
      "Done!\n",
      "Output dir does not exist. Creating E:\\Parotid\\nii_anon\\MR_241_anon...\n",
      "Found the following sequences: T1c_ax, T1_ax\n",
      "Creating output for Seq 5 Ser 7 (T1c_ax)...  Done!\n",
      "Creating output for Seq 2 Ser 4 (T1_ax)...  "
     ]
    },
    {
     "name": "stderr",
     "output_type": "stream",
     "text": [
      " 68%|██████▊   | 43/63 [01:55<00:52,  2.64s/it]"
     ]
    },
    {
     "name": "stdout",
     "output_type": "stream",
     "text": [
      "Done!\n",
      "Output dir does not exist. Creating E:\\Parotid\\nii_anon\\MR_242_anon...\n",
      "Found the following sequences: T1c_ax, T1_ax\n",
      "Creating output for Seq 5 Ser 7 (T1c_ax)...  Done!\n",
      "Creating output for Seq 2 Ser 4 (T1_ax)...  "
     ]
    },
    {
     "name": "stderr",
     "output_type": "stream",
     "text": [
      " 70%|██████▉   | 44/63 [01:57<00:47,  2.48s/it]"
     ]
    },
    {
     "name": "stdout",
     "output_type": "stream",
     "text": [
      "Done!\n",
      "Output dir does not exist. Creating E:\\Parotid\\nii_anon\\MR_243_anon...\n",
      "Found the following sequences: T1c_ax, T1_ax\n",
      "Creating output for Seq 5 Ser 7 (T1c_ax)...  Done!\n",
      "Creating output for Seq 1 Ser 3 (T1_ax)...  "
     ]
    },
    {
     "name": "stderr",
     "output_type": "stream",
     "text": [
      " 71%|███████▏  | 45/63 [01:59<00:44,  2.49s/it]"
     ]
    },
    {
     "name": "stdout",
     "output_type": "stream",
     "text": [
      "Done!\n",
      "Output dir does not exist. Creating E:\\Parotid\\nii_anon\\MR_244_anon...\n",
      "Found the following sequences: T1c_ax, T1_ax\n",
      "Creating output for Seq 5 Ser 7 (T1c_ax)...  Done!\n",
      "Creating output for Seq 2 Ser 4 (T1_ax)...  "
     ]
    },
    {
     "name": "stderr",
     "output_type": "stream",
     "text": [
      " 73%|███████▎  | 46/63 [02:02<00:42,  2.50s/it]"
     ]
    },
    {
     "name": "stdout",
     "output_type": "stream",
     "text": [
      "Done!\n",
      "Output dir does not exist. Creating E:\\Parotid\\nii_anon\\MR_245_anon...\n",
      "Found the following sequences: T1c_ax, T1_ax, T2_ax\n",
      "Creating output for Seq 5 Ser 7 (T1c_ax)...  Done!\n",
      "Creating output for Seq 1 Ser 3 (T1_ax)...  Done!\n",
      "Creating output for Seq 3 Ser 5 (T2_ax)...  "
     ]
    },
    {
     "name": "stderr",
     "output_type": "stream",
     "text": [
      " 75%|███████▍  | 47/63 [02:05<00:45,  2.83s/it]"
     ]
    },
    {
     "name": "stdout",
     "output_type": "stream",
     "text": [
      "Done!\n",
      "Output dir does not exist. Creating E:\\Parotid\\nii_anon\\MR_246_anon...\n",
      "Found the following sequences: T1c_ax, T1_ax, T2_ax, t2_blade_tra_p2 top\n",
      "Creating output for Seq 7 Ser 8 (T1c_ax)...  Done!\n",
      "Creating output for Seq 2 Ser 3 (T1_ax)...  Done!\n",
      "Creating output for Seq 3 Ser 4 (T2_ax)...  Done!\n",
      "Creating output for Seq 5 Ser 6 (t2_blade_tra_p2 top)...  "
     ]
    },
    {
     "name": "stderr",
     "output_type": "stream",
     "text": [
      " 76%|███████▌  | 48/63 [02:09<00:47,  3.19s/it]"
     ]
    },
    {
     "name": "stdout",
     "output_type": "stream",
     "text": [
      "Done!\n",
      "Output dir does not exist. Creating E:\\Parotid\\nii_anon\\MR_247_anon...\n",
      "Found the following sequences: T1_ax, T2_ax, T1W_TRA mDIXON 2D+C Gadovist\n",
      "Creating output for Seq 4 Ser 401 (T1_ax)...  Done!\n",
      "Creating output for Seq 5 Ser 501 (T2_ax)...  Done!\n",
      "Creating output for Seq 7 Ser 1101 (T1W_TRA mDIXON 2D+C Gadovist)...  "
     ]
    },
    {
     "name": "stderr",
     "output_type": "stream",
     "text": [
      " 78%|███████▊  | 49/63 [02:14<00:51,  3.69s/it]"
     ]
    },
    {
     "name": "stdout",
     "output_type": "stream",
     "text": [
      "Done!\n",
      "Output dir does not exist. Creating E:\\Parotid\\nii_anon\\MR_248_anon...\n",
      "Found the following sequences: T1_ax, T1W_TRA MVXD, T2_ax, T1W_TRA mDIXON 2D, T1W_TRA mDIXON 2D+C Dotarem\n",
      "Creating output for Seq 10 Ser 1101 (T1_ax)...  Done!\n",
      "Creating output for Seq 4 Ser 401 (T1W_TRA MVXD)...  Done!\n",
      "Creating output for Seq 5 Ser 501 (T2_ax)...  Done!\n",
      "Creating output for Seq 6 Ser 801 (T1W_TRA mDIXON 2D)...  Done!\n",
      "Creating output for Seq 9 Ser 1001 (T1W_TRA mDIXON 2D+C Dotarem)...  "
     ]
    },
    {
     "name": "stderr",
     "output_type": "stream",
     "text": [
      " 79%|███████▉  | 50/63 [02:21<01:00,  4.68s/it]"
     ]
    },
    {
     "name": "stdout",
     "output_type": "stream",
     "text": [
      "Done!\n",
      "Output dir does not exist. Creating E:\\Parotid\\nii_anon\\MR_249_anon...\n",
      "Found the following sequences: T1_ax, T1W_TRA MVXD, T2_ax\n",
      "Creating output for Seq 11 Ser 1101 (T1_ax)...  Done!\n",
      "Creating output for Seq 4 Ser 401 (T1W_TRA MVXD)...  Done!\n",
      "Creating output for Seq 6 Ser 701 (T2_ax)...  "
     ]
    },
    {
     "name": "stderr",
     "output_type": "stream",
     "text": [
      " 81%|████████  | 51/63 [02:29<01:07,  5.66s/it]"
     ]
    },
    {
     "name": "stdout",
     "output_type": "stream",
     "text": [
      "Done!\n",
      "Output dir does not exist. Creating E:\\Parotid\\nii_anon\\MR_250_anon...\n",
      "Found the following sequences: T1_ax, T2_ax, T1W_TRA MVXD, T1W_TRA mDIXON 2D PAROTID, T1W_TRA mDIXON 2D PAROTID+DOTAREM\n",
      "Creating output for Seq 10 Ser 901 (T1_ax)...  Done!\n",
      "Creating output for Seq 4 Ser 401 (T2_ax)...  Done!\n",
      "Creating output for Seq 5 Ser 501 (T1W_TRA MVXD)...  Done!\n",
      "Creating output for Seq 6 Ser 601 (T1W_TRA mDIXON 2D PAROTID)...  Done!\n",
      "Creating output for Seq 8 Ser 801 (T1W_TRA mDIXON 2D PAROTID+DOTAREM)...  "
     ]
    },
    {
     "name": "stderr",
     "output_type": "stream",
     "text": [
      " 83%|████████▎ | 52/63 [02:36<01:06,  6.04s/it]"
     ]
    },
    {
     "name": "stdout",
     "output_type": "stream",
     "text": [
      "Done!\n",
      "Output dir does not exist. Creating E:\\Parotid\\nii_anon\\MR_251_anon...\n",
      "Found the following sequences: T1c_ax, T1_ax, T2_ax\n",
      "Creating output for Seq 7 Ser 10 (T1c_ax)...  Done!\n",
      "Creating output for Seq 3 Ser 5 (T1_ax)...  Done!\n",
      "Creating output for Seq 4 Ser 6 (T2_ax)...  "
     ]
    },
    {
     "name": "stderr",
     "output_type": "stream",
     "text": [
      " 84%|████████▍ | 53/63 [02:41<00:55,  5.59s/it]"
     ]
    },
    {
     "name": "stdout",
     "output_type": "stream",
     "text": [
      "Done!\n",
      "Output dir does not exist. Creating E:\\Parotid\\nii_anon\\MR_252_anon...\n",
      "Found the following sequences: T1c_ax, T1_ax, T2_ax\n",
      "Creating output for Seq 7 Ser 8 (T1c_ax)...  Done!\n",
      "Creating output for Seq 2 Ser 3 (T1_ax)...  Done!\n",
      "Creating output for Seq 3 Ser 4 (T2_ax)...  "
     ]
    },
    {
     "name": "stderr",
     "output_type": "stream",
     "text": [
      " 86%|████████▌ | 54/63 [02:45<00:46,  5.16s/it]"
     ]
    },
    {
     "name": "stdout",
     "output_type": "stream",
     "text": [
      "Done!\n",
      "Output dir does not exist. Creating E:\\Parotid\\nii_anon\\MR_255_anon...\n",
      "Found the following sequences: T1c_ax, AX T1+C FS, T1_ax, T2_ax, Ax T2 SFOV\n",
      "Creating output for Seq 10 Ser 15 (T1c_ax)...  Done!\n",
      "Creating output for Seq 6 Ser 8 (AX T1+C FS)...  Done!\n",
      "Creating output for Seq 2 Ser 4 (T1_ax)...  Done!\n",
      "Creating output for Seq 3 Ser 5 (T2_ax)...  Done!\n",
      "Creating output for Seq 8 Ser 13 (Ax T2 SFOV)...  "
     ]
    },
    {
     "name": "stderr",
     "output_type": "stream",
     "text": [
      " 87%|████████▋ | 55/63 [02:50<00:41,  5.23s/it]"
     ]
    },
    {
     "name": "stdout",
     "output_type": "stream",
     "text": [
      "Done!\n",
      "Output dir does not exist. Creating E:\\Parotid\\nii_anon\\MR_256_anon...\n",
      "Found the following sequences: T2_ax, T1_ax\n",
      "Creating output for Seq 4 Ser 401 (T2_ax)...  Done!\n",
      "Creating output for Seq 5 Ser 501 (T1_ax)...  "
     ]
    },
    {
     "name": "stderr",
     "output_type": "stream",
     "text": [
      " 89%|████████▉ | 56/63 [02:55<00:34,  4.98s/it]"
     ]
    },
    {
     "name": "stdout",
     "output_type": "stream",
     "text": [
      "Done!\n",
      "Output dir does not exist. Creating E:\\Parotid\\nii_anon\\MR_260_anon...\n",
      "Found the following sequences: T2_ax, T1_ax\n",
      "Creating output for Seq 4 Ser 501 (T2_ax)...  Done!\n",
      "Creating output for Seq 5 Ser 601 (T1_ax)...  "
     ]
    },
    {
     "name": "stderr",
     "output_type": "stream",
     "text": [
      " 90%|█████████ | 57/63 [03:00<00:31,  5.17s/it]"
     ]
    },
    {
     "name": "stdout",
     "output_type": "stream",
     "text": [
      "Done!\n",
      "Output dir does not exist. Creating E:\\Parotid\\nii_anon\\MR_261_anon...\n",
      "Found the following sequences: T2_ax, T1_ax\n",
      "Creating output for Seq 4 Ser 401 (T2_ax)...  Done!\n",
      "Creating output for Seq 5 Ser 501 (T1_ax)...  "
     ]
    },
    {
     "name": "stderr",
     "output_type": "stream",
     "text": [
      " 92%|█████████▏| 58/63 [03:05<00:25,  5.05s/it]"
     ]
    },
    {
     "name": "stdout",
     "output_type": "stream",
     "text": [
      "Done!\n",
      "Output dir does not exist. Creating E:\\Parotid\\nii_anon\\MR_263_anon...\n",
      "Found the following sequences: T2_ax, T1_ax\n",
      "Creating output for Seq 4 Ser 401 (T2_ax)...  Done!\n",
      "Creating output for Seq 5 Ser 501 (T1_ax)...  "
     ]
    },
    {
     "name": "stderr",
     "output_type": "stream",
     "text": [
      " 94%|█████████▎| 59/63 [03:11<00:20,  5.24s/it]"
     ]
    },
    {
     "name": "stdout",
     "output_type": "stream",
     "text": [
      "Done!\n",
      "Output dir does not exist. Creating E:\\Parotid\\nii_anon\\MR_266_anon...\n",
      "Found the following sequences: T2_ax, T1_ax\n",
      "Creating output for Seq 4 Ser 401 (T2_ax)...  Done!\n",
      "Creating output for Seq 5 Ser 501 (T1_ax)...  "
     ]
    },
    {
     "name": "stderr",
     "output_type": "stream",
     "text": [
      " 95%|█████████▌| 60/63 [03:17<00:17,  5.69s/it]"
     ]
    },
    {
     "name": "stdout",
     "output_type": "stream",
     "text": [
      "Done!\n",
      "Output dir does not exist. Creating E:\\Parotid\\nii_anon\\MR_268_anon...\n",
      "Found the following sequences: T2_ax, T1_ax\n",
      "Creating output for Seq 3 Ser 301 (T2_ax)...  Done!\n",
      "Creating output for Seq 5 Ser 501 (T1_ax)...  "
     ]
    },
    {
     "name": "stderr",
     "output_type": "stream",
     "text": [
      " 97%|█████████▋| 61/63 [03:24<00:11,  5.95s/it]"
     ]
    },
    {
     "name": "stdout",
     "output_type": "stream",
     "text": [
      "Done!\n",
      "Output dir does not exist. Creating E:\\Parotid\\nii_anon\\MR_269_anon...\n",
      "Found the following sequences: T1c_ax, Sub_t1_vibe tra, t1_vibe tra f s (1mm fast hi-res), t1_vibe tra f s (1mm fast hi-res)+c, T2_ax, T1_ax, t1_tse_tra_4mm_p2_s2, t2_tse_tra_4mm_p2_s2\n",
      "Creating output for Seq 10 Ser 19 (T1c_ax)...  Done!\n",
      "Creating output for Seq 13 Ser 1001 (Sub_t1_vibe tra)...  Done!\n",
      "Creating output for Seq 7 Ser 13 (t1_vibe tra f s (1mm fast hi-res))...  Done!\n",
      "Creating output for Seq 8 Ser 14 (t1_vibe tra f s (1mm fast hi-res)+c)...  Done!\n",
      "Creating output for Seq 11 Ser 21 (T2_ax)...  Done!\n",
      "Creating output for Seq 12 Ser 22 (T1_ax)...  Done!\n",
      "Creating output for Seq 2 Ser 4 (t1_tse_tra_4mm_p2_s2)...  Done!\n",
      "Creating output for Seq 3 Ser 5 (t2_tse_tra_4mm_p2_s2)...  "
     ]
    },
    {
     "name": "stderr",
     "output_type": "stream",
     "text": [
      " 98%|█████████▊| 62/63 [03:36<00:07,  7.75s/it]"
     ]
    },
    {
     "name": "stdout",
     "output_type": "stream",
     "text": [
      "Done!\n",
      "Output dir does not exist. Creating E:\\Parotid\\nii_anon\\MR_270_anon...\n",
      "Found the following sequences: T1c_ax, t1_tse_dixon_tra+c_W, T2_ax, T1_ax, t1_tse_dixon_tra_W\n",
      "Creating output for Seq 10 Ser 19 (T1c_ax)...  Done!\n",
      "Creating output for Seq 9 Ser 18 (t1_tse_dixon_tra+c_W)...  Done!\n",
      "Creating output for Seq 2 Ser 3 (T2_ax)...  Done!\n",
      "Creating output for Seq 3 Ser 5 (T1_ax)...  Done!\n",
      "Creating output for Seq 4 Ser 7 (t1_tse_dixon_tra_W)...  "
     ]
    },
    {
     "name": "stderr",
     "output_type": "stream",
     "text": [
      "100%|██████████| 63/63 [03:42<00:00,  3.53s/it]"
     ]
    },
    {
     "name": "stdout",
     "output_type": "stream",
     "text": [
      "Done!\n"
     ]
    },
    {
     "name": "stderr",
     "output_type": "stream",
     "text": [
      "\n"
     ]
    }
   ],
   "source": [
    "list_pts = os.listdir(in_dir)\n",
    "progress_bar = tqdm.tqdm(total=len(list_pts))\n",
    "\n",
    "for pt in list_pts:\n",
    "    in_pt = in_dir + '\\\\' + pt\n",
    "    out_pt = out_dir + '\\\\' + pt\n",
    "    out_json = pt + '.json'\n",
    "\n",
    "    create_nii(in_pt, out_pt, out_json)\n",
    "\n",
    "    progress_bar.update(1)\n",
    "\n",
    "progress_bar.close()"
   ]
  },
  {
   "cell_type": "code",
   "execution_count": null,
   "metadata": {},
   "outputs": [],
   "source": []
  }
 ],
 "metadata": {
  "kernelspec": {
   "display_name": "monailabel-env",
   "language": "python",
   "name": "python3"
  },
  "language_info": {
   "codemirror_mode": {
    "name": "ipython",
    "version": 3
   },
   "file_extension": ".py",
   "mimetype": "text/x-python",
   "name": "python",
   "nbconvert_exporter": "python",
   "pygments_lexer": "ipython3",
   "version": "3.11.3"
  }
 },
 "nbformat": 4,
 "nbformat_minor": 2
}
