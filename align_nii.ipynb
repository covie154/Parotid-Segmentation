{
 "cells": [
  {
   "cell_type": "markdown",
   "metadata": {},
   "source": [
    "Generate aligned NIIs with Elastix\n",
    "We need to align T1c_ax and T2_ax with T1_ax"
   ]
  },
  {
   "cell_type": "code",
   "execution_count": 11,
   "metadata": {},
   "outputs": [],
   "source": [
    "import itk\n",
    "from itkwidgets import compare, checkerboard, view\n",
    "import os\n",
    "import tqdm\n",
    "import shutil\n",
    "\n",
    "in_dir = 'E:\\\\Parotid\\\\manual'\n",
    "out_dir = 'E:\\\\Parotid\\\\nii_anon_aligned'"
   ]
  },
  {
   "cell_type": "code",
   "execution_count": 2,
   "metadata": {},
   "outputs": [],
   "source": [
    "parameter_object = itk.ParameterObject.New()\n",
    "default_rigid_parameter_map = parameter_object.GetDefaultParameterMap('rigid')\n",
    "parameter_object.AddParameterMap(default_rigid_parameter_map)\n",
    "\n",
    "def register_images(fixed_image, moving_image):\n",
    "    fixed_image_import = itk.imread(fixed_image, itk.F)\n",
    "    moving_image_import = itk.imread(moving_image, itk.F)\n",
    "\n",
    "    # Load Elastix Image Filter Object\n",
    "    elastix_object = itk.ElastixRegistrationMethod.New(fixed_image_import, moving_image_import)\n",
    "    elastix_object.SetParameterObject(parameter_object)\n",
    "\n",
    "    # Set additional options\n",
    "    elastix_object.SetLogToConsole(True)\n",
    "    elastix_object.LogToConsoleOn()\n",
    "\n",
    "    # Update filter object (required)\n",
    "    elastix_object.UpdateLargestPossibleRegion()\n",
    "\n",
    "    # Results of Registration\n",
    "    result_image = elastix_object.GetOutput()\n",
    "    result_transform_parameters = elastix_object.GetTransformParameterObject()\n",
    "    \n",
    "    return result_image"
   ]
  },
  {
   "cell_type": "code",
   "execution_count": 14,
   "metadata": {},
   "outputs": [
    {
     "name": "stderr",
     "output_type": "stream",
     "text": [
      "  0%|          | 0/2 [00:10<?, ?it/s]\n"
     ]
    },
    {
     "name": "stdout",
     "output_type": "stream",
     "text": [
      "Patient: MR_102_anon\n",
      "Registering T1_ax with T2_ax: Success!\n",
      "Registering T1_ax with T1c_ax: "
     ]
    },
    {
     "name": "stderr",
     "output_type": "stream",
     "text": [
      " 50%|█████     | 1/2 [00:08<00:08,  8.58s/it]"
     ]
    },
    {
     "name": "stdout",
     "output_type": "stream",
     "text": [
      "Success!\n",
      "Patient: MR_231_anon\n",
      "Registering T1_ax with T2_ax: Success!\n",
      "Registering T1_ax with T1c_ax: "
     ]
    },
    {
     "name": "stderr",
     "output_type": "stream",
     "text": [
      "100%|██████████| 2/2 [00:18<00:00,  9.35s/it]"
     ]
    },
    {
     "name": "stdout",
     "output_type": "stream",
     "text": [
      "Success!\n"
     ]
    },
    {
     "name": "stderr",
     "output_type": "stream",
     "text": [
      "\n"
     ]
    }
   ],
   "source": [
    "list_pts = os.listdir(in_dir)\n",
    "progress_bar = tqdm.tqdm(total=len(list_pts))\n",
    "\n",
    "for pt in list_pts:\n",
    "    in_pt = in_dir + '\\\\' + pt\n",
    "    out_pt = out_dir + '\\\\' + pt\n",
    "    \n",
    "    # First copy everything over\n",
    "    # Then register the images\n",
    "    # Then delete the unregistered images\n",
    "\n",
    "    shutil.copytree(in_pt, out_pt)\n",
    "\n",
    "    print(f'Patient: {pt}')\n",
    "\n",
    "    for seq in ['T2_ax', 'T1c_ax']:\n",
    "        in_file = out_pt + \"\\\\\"  + seq + \".nii\"\n",
    "        in_file_aligned = out_pt + \"\\\\\"  + seq + \"_aligned.nii\"\n",
    "        t1_file = out_pt + \"\\\\\"  + \"T1_ax.nii\"\n",
    "\n",
    "        if os.path.isfile(in_file):\n",
    "            print(f'Registering T1_ax with {seq}:', end=' ')\n",
    "            out_nii_file = register_images(t1_file, in_file)\n",
    "            if out_nii_file: print(\"Success!\")\n",
    "            itk.imwrite(out_nii_file, in_file_aligned)\n",
    "\n",
    "            os.remove(in_file)\n",
    "    \n",
    "    progress_bar.update(1)\n",
    "\n",
    "progress_bar.close()"
   ]
  }
 ],
 "metadata": {
  "kernelspec": {
   "display_name": "base",
   "language": "python",
   "name": "python3"
  },
  "language_info": {
   "codemirror_mode": {
    "name": "ipython",
    "version": 3
   },
   "file_extension": ".py",
   "mimetype": "text/x-python",
   "name": "python",
   "nbconvert_exporter": "python",
   "pygments_lexer": "ipython3",
   "version": "3.11.3"
  }
 },
 "nbformat": 4,
 "nbformat_minor": 2
}
