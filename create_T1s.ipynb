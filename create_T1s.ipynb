{
 "cells": [
  {
   "cell_type": "markdown",
   "metadata": {},
   "source": [
    "Create a directory of all the T1's only for training the segmentation model"
   ]
  },
  {
   "cell_type": "code",
   "execution_count": 1,
   "metadata": {},
   "outputs": [],
   "source": [
    "import os\n",
    "import tqdm\n",
    "import shutil\n",
    "\n",
    "in_dir = 'E:\\\\Parotid\\\\nii_anon_aligned'\n",
    "out_dir = 'E:\\\\Parotid\\\\T1_only_seg'"
   ]
  },
  {
   "cell_type": "code",
   "execution_count": 4,
   "metadata": {},
   "outputs": [
    {
     "name": "stderr",
     "output_type": "stream",
     "text": [
      "  0%|          | 0/63 [00:17<?, ?it/s]\n",
      "  8%|▊         | 5/63 [00:00<00:01, 41.82it/s]"
     ]
    },
    {
     "name": "stdout",
     "output_type": "stream",
     "text": [
      "Copying E:\\Parotid\\nii_anon_aligned\\MR_021_anon\\T1_ax.nii to E:\\Parotid\\T1_only_seg\\MR_021_anon_T1.nii...\n",
      "Copying E:\\Parotid\\nii_anon_aligned\\MR_022_anon\\T1_ax.nii to E:\\Parotid\\T1_only_seg\\MR_022_anon_T1.nii...\n",
      "Copying E:\\Parotid\\nii_anon_aligned\\MR_027_anon\\T1_ax.nii to E:\\Parotid\\T1_only_seg\\MR_027_anon_T1.nii...\n",
      "Copying E:\\Parotid\\nii_anon_aligned\\MR_096_anon\\T1_ax.nii to E:\\Parotid\\T1_only_seg\\MR_096_anon_T1.nii...\n",
      "Copying E:\\Parotid\\nii_anon_aligned\\MR_098_anon\\T1_ax.nii to E:\\Parotid\\T1_only_seg\\MR_098_anon_T1.nii...\n",
      "Copying E:\\Parotid\\nii_anon_aligned\\MR_102_anon\\T1_ax.nii to E:\\Parotid\\T1_only_seg\\MR_102_anon_T1.nii...\n",
      "Copying E:\\Parotid\\nii_anon_aligned\\MR_106_anon\\T1_ax.nii to E:\\Parotid\\T1_only_seg\\MR_106_anon_T1.nii...\n",
      "Copying E:\\Parotid\\nii_anon_aligned\\MR_107_anon\\T1_ax.nii to E:\\Parotid\\T1_only_seg\\MR_107_anon_T1.nii...\n",
      "Copying E:\\Parotid\\nii_anon_aligned\\MR_108_anon\\T1_ax.nii to E:\\Parotid\\T1_only_seg\\MR_108_anon_T1.nii...\n"
     ]
    },
    {
     "name": "stderr",
     "output_type": "stream",
     "text": [
      " 25%|██▌       | 16/63 [00:00<00:00, 48.98it/s]"
     ]
    },
    {
     "name": "stdout",
     "output_type": "stream",
     "text": [
      "Copying E:\\Parotid\\nii_anon_aligned\\MR_109_anon\\T1_ax.nii to E:\\Parotid\\T1_only_seg\\MR_109_anon_T1.nii...\n",
      "Copying E:\\Parotid\\nii_anon_aligned\\MR_110_anon\\T1_ax.nii to E:\\Parotid\\T1_only_seg\\MR_110_anon_T1.nii...\n",
      "Copying E:\\Parotid\\nii_anon_aligned\\MR_112_anon\\T1_ax.nii to E:\\Parotid\\T1_only_seg\\MR_112_anon_T1.nii...\n",
      "Copying E:\\Parotid\\nii_anon_aligned\\MR_113_anon\\T1_ax.nii to E:\\Parotid\\T1_only_seg\\MR_113_anon_T1.nii...\n",
      "Copying E:\\Parotid\\nii_anon_aligned\\MR_114_anon\\T1_ax.nii to E:\\Parotid\\T1_only_seg\\MR_114_anon_T1.nii...\n",
      "Copying E:\\Parotid\\nii_anon_aligned\\MR_115_anon\\T1_ax.nii to E:\\Parotid\\T1_only_seg\\MR_115_anon_T1.nii...\n",
      "Copying E:\\Parotid\\nii_anon_aligned\\MR_116_anon\\T1_ax.nii to E:\\Parotid\\T1_only_seg\\MR_116_anon_T1.nii...\n",
      "Copying E:\\Parotid\\nii_anon_aligned\\MR_117_anon\\T1_ax.nii to E:\\Parotid\\T1_only_seg\\MR_117_anon_T1.nii...\n",
      "Copying E:\\Parotid\\nii_anon_aligned\\MR_118_anon\\T1_ax.nii to E:\\Parotid\\T1_only_seg\\MR_118_anon_T1.nii...\n",
      "Copying E:\\Parotid\\nii_anon_aligned\\MR_122_anon\\T1_ax.nii to E:\\Parotid\\T1_only_seg\\MR_122_anon_T1.nii...\n",
      "Copying E:\\Parotid\\nii_anon_aligned\\MR_123_anon\\T1_ax.nii to E:\\Parotid\\T1_only_seg\\MR_123_anon_T1.nii...\n"
     ]
    },
    {
     "name": "stderr",
     "output_type": "stream",
     "text": [
      " 33%|███▎      | 21/63 [00:00<00:00, 48.73it/s]"
     ]
    },
    {
     "name": "stdout",
     "output_type": "stream",
     "text": [
      "Copying E:\\Parotid\\nii_anon_aligned\\MR_124_anon\\T1_ax.nii to E:\\Parotid\\T1_only_seg\\MR_124_anon_T1.nii...\n",
      "Copying E:\\Parotid\\nii_anon_aligned\\MR_125_anon\\T1_ax.nii to E:\\Parotid\\T1_only_seg\\MR_125_anon_T1.nii...\n",
      "Copying E:\\Parotid\\nii_anon_aligned\\MR_126_anon\\T1_ax.nii to E:\\Parotid\\T1_only_seg\\MR_126_anon_T1.nii...\n",
      "Copying E:\\Parotid\\nii_anon_aligned\\MR_128_anon\\T1_ax.nii to E:\\Parotid\\T1_only_seg\\MR_128_anon_T1.nii...\n",
      "Copying E:\\Parotid\\nii_anon_aligned\\MR_129_anon\\T1_ax.nii to E:\\Parotid\\T1_only_seg\\MR_129_anon_T1.nii...\n",
      "Copying E:\\Parotid\\nii_anon_aligned\\MR_130_anon\\T1_ax.nii to E:\\Parotid\\T1_only_seg\\MR_130_anon_T1.nii...\n"
     ]
    },
    {
     "name": "stderr",
     "output_type": "stream",
     "text": [
      " 41%|████▏     | 26/63 [00:00<00:01, 34.40it/s]"
     ]
    },
    {
     "name": "stdout",
     "output_type": "stream",
     "text": [
      "Copying E:\\Parotid\\nii_anon_aligned\\MR_131_anon\\T1_ax.nii to E:\\Parotid\\T1_only_seg\\MR_131_anon_T1.nii...\n",
      "Copying E:\\Parotid\\nii_anon_aligned\\MR_132_anon\\T1_ax.nii to E:\\Parotid\\T1_only_seg\\MR_132_anon_T1.nii...\n",
      "Copying E:\\Parotid\\nii_anon_aligned\\MR_133_anon\\T1_ax.nii to E:\\Parotid\\T1_only_seg\\MR_133_anon_T1.nii...\n"
     ]
    },
    {
     "name": "stderr",
     "output_type": "stream",
     "text": [
      " 48%|████▊     | 30/63 [00:00<00:01, 23.05it/s]"
     ]
    },
    {
     "name": "stdout",
     "output_type": "stream",
     "text": [
      "Copying E:\\Parotid\\nii_anon_aligned\\MR_134_anon\\T1_ax.nii to E:\\Parotid\\T1_only_seg\\MR_134_anon_T1.nii...\n",
      "Copying E:\\Parotid\\nii_anon_aligned\\MR_135_anon\\T1_ax.nii to E:\\Parotid\\T1_only_seg\\MR_135_anon_T1.nii...\n",
      "Copying E:\\Parotid\\nii_anon_aligned\\MR_136_anon\\T1_ax.nii to E:\\Parotid\\T1_only_seg\\MR_136_anon_T1.nii...\n",
      "Copying E:\\Parotid\\nii_anon_aligned\\MR_137_anon\\T1_ax.nii to E:\\Parotid\\T1_only_seg\\MR_137_anon_T1.nii...\n",
      "Copying E:\\Parotid\\nii_anon_aligned\\MR_138_anon\\T1_ax.nii to E:\\Parotid\\T1_only_seg\\MR_138_anon_T1.nii...\n"
     ]
    },
    {
     "name": "stderr",
     "output_type": "stream",
     "text": [
      " 60%|██████    | 38/63 [00:01<00:00, 27.22it/s]"
     ]
    },
    {
     "name": "stdout",
     "output_type": "stream",
     "text": [
      "Copying E:\\Parotid\\nii_anon_aligned\\MR_139_anon\\T1_ax.nii to E:\\Parotid\\T1_only_seg\\MR_139_anon_T1.nii...\n",
      "Copying E:\\Parotid\\nii_anon_aligned\\MR_140_anon\\T1_ax.nii to E:\\Parotid\\T1_only_seg\\MR_140_anon_T1.nii...\n",
      "Copying E:\\Parotid\\nii_anon_aligned\\MR_141_anon\\T1_ax.nii to E:\\Parotid\\T1_only_seg\\MR_141_anon_T1.nii...\n",
      "Copying E:\\Parotid\\nii_anon_aligned\\MR_145_anon\\T1_ax.nii to E:\\Parotid\\T1_only_seg\\MR_145_anon_T1.nii...\n",
      "Copying E:\\Parotid\\nii_anon_aligned\\MR_231_anon\\T1_ax.nii to E:\\Parotid\\T1_only_seg\\MR_231_anon_T1.nii...\n"
     ]
    },
    {
     "name": "stderr",
     "output_type": "stream",
     "text": [
      " 67%|██████▋   | 42/63 [00:01<00:00, 21.31it/s]"
     ]
    },
    {
     "name": "stdout",
     "output_type": "stream",
     "text": [
      "Copying E:\\Parotid\\nii_anon_aligned\\MR_238_anon\\T1_ax.nii to E:\\Parotid\\T1_only_seg\\MR_238_anon_T1.nii...\n",
      "Copying E:\\Parotid\\nii_anon_aligned\\MR_239_anon\\T1_ax.nii to E:\\Parotid\\T1_only_seg\\MR_239_anon_T1.nii...\n",
      "Copying E:\\Parotid\\nii_anon_aligned\\MR_240_anon\\T1_ax.nii to E:\\Parotid\\T1_only_seg\\MR_240_anon_T1.nii...\n",
      "Copying E:\\Parotid\\nii_anon_aligned\\MR_241_anon\\T1_ax.nii to E:\\Parotid\\T1_only_seg\\MR_241_anon_T1.nii...\n"
     ]
    },
    {
     "name": "stderr",
     "output_type": "stream",
     "text": [
      " 71%|███████▏  | 45/63 [00:01<00:00, 20.46it/s]"
     ]
    },
    {
     "name": "stdout",
     "output_type": "stream",
     "text": [
      "Copying E:\\Parotid\\nii_anon_aligned\\MR_242_anon\\T1_ax.nii to E:\\Parotid\\T1_only_seg\\MR_242_anon_T1.nii...\n",
      "Copying E:\\Parotid\\nii_anon_aligned\\MR_243_anon\\T1_ax.nii to E:\\Parotid\\T1_only_seg\\MR_243_anon_T1.nii...\n",
      "Copying E:\\Parotid\\nii_anon_aligned\\MR_244_anon\\T1_ax.nii to E:\\Parotid\\T1_only_seg\\MR_244_anon_T1.nii...\n",
      "Copying E:\\Parotid\\nii_anon_aligned\\MR_245_anon\\T1_ax.nii to E:\\Parotid\\T1_only_seg\\MR_245_anon_T1.nii...\n",
      "Copying E:\\Parotid\\nii_anon_aligned\\MR_246_anon\\T1_ax.nii to E:\\Parotid\\T1_only_seg\\MR_246_anon_T1.nii...\n",
      "Copying E:\\Parotid\\nii_anon_aligned\\MR_247_anon\\T1_ax.nii to E:\\Parotid\\T1_only_seg\\MR_247_anon_T1.nii...\n"
     ]
    },
    {
     "name": "stderr",
     "output_type": "stream",
     "text": [
      " 78%|███████▊  | 49/63 [00:01<00:00, 22.07it/s]"
     ]
    },
    {
     "name": "stdout",
     "output_type": "stream",
     "text": [
      "Copying E:\\Parotid\\nii_anon_aligned\\MR_248_anon\\T1_ax.nii to E:\\Parotid\\T1_only_seg\\MR_248_anon_T1.nii...\n",
      "Copying E:\\Parotid\\nii_anon_aligned\\MR_249_anon\\T1_ax.nii to E:\\Parotid\\T1_only_seg\\MR_249_anon_T1.nii...\n",
      "Copying E:\\Parotid\\nii_anon_aligned\\MR_250_anon\\T1_ax.nii to E:\\Parotid\\T1_only_seg\\MR_250_anon_T1.nii...\n"
     ]
    },
    {
     "name": "stderr",
     "output_type": "stream",
     "text": [
      " 87%|████████▋ | 55/63 [00:02<00:00, 19.08it/s]"
     ]
    },
    {
     "name": "stdout",
     "output_type": "stream",
     "text": [
      "Copying E:\\Parotid\\nii_anon_aligned\\MR_251_anon\\T1_ax.nii to E:\\Parotid\\T1_only_seg\\MR_251_anon_T1.nii...\n",
      "Copying E:\\Parotid\\nii_anon_aligned\\MR_252_anon\\T1_ax.nii to E:\\Parotid\\T1_only_seg\\MR_252_anon_T1.nii...\n",
      "Copying E:\\Parotid\\nii_anon_aligned\\MR_255_anon\\T1_ax.nii to E:\\Parotid\\T1_only_seg\\MR_255_anon_T1.nii...\n",
      "Copying E:\\Parotid\\nii_anon_aligned\\MR_256_anon\\T1_ax.nii to E:\\Parotid\\T1_only_seg\\MR_256_anon_T1.nii...\n",
      "Copying E:\\Parotid\\nii_anon_aligned\\MR_260_anon\\T1_ax.nii to E:\\Parotid\\T1_only_seg\\MR_260_anon_T1.nii...\n",
      "Copying E:\\Parotid\\nii_anon_aligned\\MR_261_anon\\T1_ax.nii to E:\\Parotid\\T1_only_seg\\MR_261_anon_T1.nii...\n"
     ]
    },
    {
     "name": "stderr",
     "output_type": "stream",
     "text": [
      " 95%|█████████▌| 60/63 [00:02<00:00, 14.13it/s]"
     ]
    },
    {
     "name": "stdout",
     "output_type": "stream",
     "text": [
      "Copying E:\\Parotid\\nii_anon_aligned\\MR_263_anon\\T1_ax.nii to E:\\Parotid\\T1_only_seg\\MR_263_anon_T1.nii...\n",
      "Copying E:\\Parotid\\nii_anon_aligned\\MR_266_anon\\T1_ax.nii to E:\\Parotid\\T1_only_seg\\MR_266_anon_T1.nii...\n"
     ]
    },
    {
     "name": "stderr",
     "output_type": "stream",
     "text": [
      "100%|██████████| 63/63 [00:02<00:00, 22.28it/s]"
     ]
    },
    {
     "name": "stdout",
     "output_type": "stream",
     "text": [
      "Copying E:\\Parotid\\nii_anon_aligned\\MR_268_anon\\T1_ax.nii to E:\\Parotid\\T1_only_seg\\MR_268_anon_T1.nii...\n",
      "Copying E:\\Parotid\\nii_anon_aligned\\MR_269_anon\\T1_ax.nii to E:\\Parotid\\T1_only_seg\\MR_269_anon_T1.nii...\n",
      "Copying E:\\Parotid\\nii_anon_aligned\\MR_270_anon\\T1_ax.nii to E:\\Parotid\\T1_only_seg\\MR_270_anon_T1.nii...\n"
     ]
    },
    {
     "name": "stderr",
     "output_type": "stream",
     "text": [
      "\n"
     ]
    }
   ],
   "source": [
    "list_pts = os.listdir(in_dir)\n",
    "progress_bar = tqdm.tqdm(total=len(list_pts))\n",
    "\n",
    "for pt in list_pts:\n",
    "    in_t1 = in_dir + '\\\\' + pt + '\\\\' + 'T1_ax.nii'\n",
    "    out_t1 = out_dir + '\\\\' + pt + '_T1.nii'\n",
    "\n",
    "    print(f'Copying {in_t1} to {out_t1}...')\n",
    "    shutil.copy(in_t1, out_t1)\n",
    "    progress_bar.update(1)\n",
    "\n",
    "progress_bar.close()"
   ]
  }
 ],
 "metadata": {
  "kernelspec": {
   "display_name": "base",
   "language": "python",
   "name": "python3"
  },
  "language_info": {
   "codemirror_mode": {
    "name": "ipython",
    "version": 3
   },
   "file_extension": ".py",
   "mimetype": "text/x-python",
   "name": "python",
   "nbconvert_exporter": "python",
   "pygments_lexer": "ipython3",
   "version": "3.11.3"
  }
 },
 "nbformat": 4,
 "nbformat_minor": 2
}
